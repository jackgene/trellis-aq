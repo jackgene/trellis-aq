{
 "cells": [
  {
   "cell_type": "markdown",
   "id": "55e1e230-bfbd-4308-b21d-e9a62fb7ca20",
   "metadata": {},
   "source": [
    "# Calibration History\n",
    "\n",
    "- 2024-08-19\n",
    "  - Device 01 PM2.5: 7.7 to 8.5 (+0.8, or ~10%)\n",
    "  - Device 02 PM2.5: 5.3 to 5.1 (-0.2 or ~5%)"
   ]
  },
  {
   "cell_type": "code",
   "execution_count": 3,
   "id": "46d99f1a-8239-4a11-8750-ec83e83eebb2",
   "metadata": {},
   "outputs": [],
   "source": [
    "import numpy as np\n",
    "import pandas as pd\n",
    "import statsmodels.formula.api as sm\n",
    "from datetime import datetime, timedelta\n",
    "from functools import reduce"
   ]
  },
  {
   "cell_type": "code",
   "execution_count": 4,
   "id": "ff942fff-475f-4e49-8512-ad7beb7208de",
   "metadata": {},
   "outputs": [],
   "source": [
    "start_incl = datetime.fromisoformat(\"2024-08-18T17:00:00+08.00\")\n",
    "end_excl = datetime.fromisoformat(\"2024-08-19T11:00:00+08.00\")\n",
    "times = [start_incl + timedelta(hours=h) for h in range(int((end_excl - start_incl).total_seconds() / 60 / 60))]\n",
    "\n",
    "def calculate_adjustment(df: pd.DataFrame, dst: str, src: str):\n",
    "    regression = sm.ols(formula=f\"{dst} ~ {src} -1\", data=df).fit()\n",
    "    coefficient = regression.params.values[0]\n",
    "    max_src = df[src].max()\n",
    "    print(f\"{dst} = {src} × {coefficient:.3f} (r²={regression.rsquared:.3f})\")\n",
    "    ax = df.plot.scatter(dst, src)\n",
    "    ax.plot([0, max_src * coefficient], [0, max_src], color=\"0.9\", linestyle=\"dotted\")"
   ]
  },
  {
   "cell_type": "code",
   "execution_count": null,
   "id": "60025c42-2a83-4fcb-80b8-693f4c443be9",
   "metadata": {},
   "outputs": [],
   "source": [
    "%run \"Common.ipynb\""
   ]
  },
  {
   "cell_type": "code",
   "execution_count": null,
   "id": "9120b6fc-38a0-4eb1-8810-b45b0fff1628",
   "metadata": {},
   "outputs": [],
   "source": [
    "dfs = [grp.reset_index(level=0, drop=True).rename(columns={\"PM2.5(ug/m³)\": f\"Device{dev}\"}) for dev, grp in df.loc[(slice(None), times), [\"PM2.5(ug/m³)\"]].groupby(level=0)]\n",
    "joined_df = reduce(lambda l, r: l.join(r), dfs)"
   ]
  },
  {
   "cell_type": "code",
   "execution_count": null,
   "id": "929265ae-dcaf-4475-b2c9-5023cd190ea7",
   "metadata": {},
   "outputs": [],
   "source": [
    "_ = joined_df.plot()\n",
    "calculate_adjustment(joined_df, \"Device03\", \"Device01\")\n",
    "calculate_adjustment(joined_df, \"Device03\", \"Device02\")"
   ]
  },
  {
   "cell_type": "code",
   "execution_count": null,
   "id": "7c76f249-56aa-4db3-ba63-4b48de91d7c0",
   "metadata": {},
   "outputs": [],
   "source": []
  }
 ],
 "metadata": {
  "kernelspec": {
   "display_name": "Python 3 (ipykernel)",
   "language": "python",
   "name": "python3"
  },
  "language_info": {
   "codemirror_mode": {
    "name": "ipython",
    "version": 3
   },
   "file_extension": ".py",
   "mimetype": "text/x-python",
   "name": "python",
   "nbconvert_exporter": "python",
   "pygments_lexer": "ipython3",
   "version": "3.12.5"
  }
 },
 "nbformat": 4,
 "nbformat_minor": 5
}
