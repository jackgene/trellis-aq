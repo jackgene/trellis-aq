{
 "cells": [
  {
   "cell_type": "markdown",
   "id": "55e1e230-bfbd-4308-b21d-e9a62fb7ca20",
   "metadata": {},
   "source": [
    "# Calibration History\n",
    "\n",
    "- 2024-08-19\n",
    "  - Device 01 PM2.5: 7.7 to 8.5 (+0.8, or ~10%)\n",
    "  - Device 02 PM2.5: 5.3 to 5.1 (-0.2 or ~5%)\n",
    "- 2024-08-20\n",
    "  - Device 01 PM2.5: 7.5 to 7.9 (+0.4, or ~5%)\n",
    "  - Device 02 PM2.5: 6.8 to 7.3 (+0.5 or ~8%)\n",
    "- 2024-08-21\n",
    "  - Device 01 PM2.5: 7.5 to 7.1 (+0.4, or ~5%)\n",
    "  - Device 02 PM2.5: Not adjusted\n",
    "\n",
    "## Methodology\n",
    "The calibration mathodology is to simply place the devices side-by-side in the same space, over a period of 12-24 hours, such that they are measuring the same air.\n",
    "\n",
    "![Devices Side-By-Side](doc/calibration.jpg)\n",
    "\n",
    "The recorded PM<sub>2.5</sub> values are charted, and a trendline generated comparing two of the devices, producing an equation of the form:\n",
    "\n",
    "> (device X PM<sub>2.5</sub>) = (device Y PM<sub>2.5</sub>) × (difference)\n",
    "\n",
    "Ideally, the value of `(difference)` is 1 (i.e., both devices are recording identical values), but if it's not, the device is adjusted, and this process repeated until the difference is sufficiently close.\n",
    "\n",
    "Calibration is done both indoors and outdoors, the rationale being:\n",
    "- Indoor air tends to be more still, resulting in less variance, and allowing for finer calibration\n",
    "- Outdoor air in contrast, is expect to have more variance, allowing us to calibrate across a wider range\n",
    "\n",
    "Given that Device 3 PM<sub>2.5</sub> values were the median value out of the box, Devices 1 & 2 have been adjusted to get them as close to Device 3 as possible. Keeping in mind the goal is to measure relative air quality between the various spaces, rather than to determine the absolute air quality of any one space."
   ]
  },
  {
   "cell_type": "code",
   "execution_count": 1,
   "id": "46d99f1a-8239-4a11-8750-ec83e83eebb2",
   "metadata": {},
   "outputs": [],
   "source": [
    "import datetime\n",
    "import polars as pd\n",
    "import statsmodels.formula.api as sm\n",
    "from functools import reduce\n",
    "from typing import Sequence"
   ]
  },
  {
   "cell_type": "code",
   "execution_count": 60,
   "id": "ff942fff-475f-4e49-8512-ad7beb7208de",
   "metadata": {},
   "outputs": [],
   "source": [
    "def display_correlation(df: pd.DataFrame, tgt: str, src: str):\n",
    "    regression = sm.ols(formula=f\"{tgt} ~ {src} -1\", data=df).fit()\n",
    "    coefficient = regression.params.values[0]\n",
    "    max_src = df[src].max()\n",
    "    ax = df.plot.scatter(tgt, src)\n",
    "    ax.plot([0, max_src * coefficient], [0, max_src], color=\"0.9\", linestyle=\"dotted\")\n",
    "    ax.text(x=0, y=max_src - 1, s=f\"{tgt} = {src} × {coefficient:.4f} (r²={regression.rsquared:.4f})\")\n",
    "\n",
    "def display_data_and_correlations(\n",
    "    df: pd.DataFrame, tgt: str, srcs: Sequence[str], start_incl: datetime.datetime, end_excl: datetime.datetime\n",
    "):\n",
    "    df_within_range = df.filter(\n",
    "        pl.col(\"Time\").is_between(start_incl, end_excl, \"left\")\n",
    "    )        \n",
    "    display(\n",
    "        df_within_range.plot.line(x=\"Time\", y=\"AQI\", color=\"Device\")\n",
    "    )\n",
    "    pm25_df = df_within_range.with_columns(\n",
    "        pl.lit(\"Device \").add(pl.col(\"Device\")).alias(\"Device\")\n",
    "    ).pivot(\"Device\", index=\"Time\", values=\"PM2.5(ug/m³)\")\n",
    "    \n",
    "    display(pm25_df)\n",
    "    # pm25_df.reset_index(level=0, drop=True).resample(\"5min\").interpolate(method=\"cubic\").plot()\n",
    "    # for src in srcs:\n",
    "    #     display_correlation(pm25_df, tgt, src)"
   ]
  },
  {
   "cell_type": "code",
   "execution_count": 32,
   "id": "60025c42-2a83-4fcb-80b8-693f4c443be9",
   "metadata": {},
   "outputs": [
    {
     "data": {
      "text/html": [
       "<div><style>\n",
       ".dataframe > thead > tr,\n",
       ".dataframe > tbody > tr {\n",
       "  text-align: right;\n",
       "  white-space: pre-wrap;\n",
       "}\n",
       "</style>\n",
       "<small>shape: (3, 6)</small><table border=\"1\" class=\"dataframe\"><thead><tr><th>Device</th><th>Readings</th><th>Earliest</th><th>Latest</th><th>Floors</th><th>Locations</th></tr><tr><td>str</td><td>u32</td><td>datetime[μs]</td><td>datetime[μs]</td><td>u32</td><td>u32</td></tr></thead><tbody><tr><td>&quot;01&quot;</td><td>135</td><td>2024-08-18 17:00:00</td><td>2024-08-24 14:00:00</td><td>1</td><td>2</td></tr><tr><td>&quot;02&quot;</td><td>136</td><td>2024-08-18 17:00:00</td><td>2024-08-24 14:00:00</td><td>1</td><td>3</td></tr><tr><td>&quot;03&quot;</td><td>489</td><td>2024-08-17 20:00:00</td><td>2024-09-07 14:00:00</td><td>1</td><td>3</td></tr></tbody></table></div>"
      ],
      "text/plain": [
       "shape: (3, 6)\n",
       "┌────────┬──────────┬─────────────────────┬─────────────────────┬────────┬───────────┐\n",
       "│ Device ┆ Readings ┆ Earliest            ┆ Latest              ┆ Floors ┆ Locations │\n",
       "│ ---    ┆ ---      ┆ ---                 ┆ ---                 ┆ ---    ┆ ---       │\n",
       "│ str    ┆ u32      ┆ datetime[μs]        ┆ datetime[μs]        ┆ u32    ┆ u32       │\n",
       "╞════════╪══════════╪═════════════════════╪═════════════════════╪════════╪═══════════╡\n",
       "│ 01     ┆ 135      ┆ 2024-08-18 17:00:00 ┆ 2024-08-24 14:00:00 ┆ 1      ┆ 2         │\n",
       "│ 02     ┆ 136      ┆ 2024-08-18 17:00:00 ┆ 2024-08-24 14:00:00 ┆ 1      ┆ 3         │\n",
       "│ 03     ┆ 489      ┆ 2024-08-17 20:00:00 ┆ 2024-09-07 14:00:00 ┆ 1      ┆ 3         │\n",
       "└────────┴──────────┴─────────────────────┴─────────────────────┴────────┴───────────┘"
      ]
     },
     "metadata": {},
     "output_type": "display_data"
    }
   ],
   "source": [
    "%run \"Common.ipynb\""
   ]
  },
  {
   "cell_type": "markdown",
   "id": "43a75824-c29e-4e34-97d9-17fce210913c",
   "metadata": {},
   "source": [
    "## Calibration Run #1\n",
    "August 18, 2024 5pm to August 19, 2024, 10am"
   ]
  },
  {
   "cell_type": "code",
   "execution_count": 61,
   "id": "9120b6fc-38a0-4eb1-8810-b45b0fff1628",
   "metadata": {},
   "outputs": [
    {
     "data": {
      "text/html": [
       "\n",
       "<style>\n",
       "  #altair-viz-3e89325fcfc34304bce702a973e1e4d9.vega-embed {\n",
       "    width: 100%;\n",
       "    display: flex;\n",
       "  }\n",
       "\n",
       "  #altair-viz-3e89325fcfc34304bce702a973e1e4d9.vega-embed details,\n",
       "  #altair-viz-3e89325fcfc34304bce702a973e1e4d9.vega-embed details summary {\n",
       "    position: relative;\n",
       "  }\n",
       "</style>\n",
       "<div id=\"altair-viz-3e89325fcfc34304bce702a973e1e4d9\"></div>\n",
       "<script type=\"text/javascript\">\n",
       "  var VEGA_DEBUG = (typeof VEGA_DEBUG == \"undefined\") ? {} : VEGA_DEBUG;\n",
       "  (function(spec, embedOpt){\n",
       "    let outputDiv = document.currentScript.previousElementSibling;\n",
       "    if (outputDiv.id !== \"altair-viz-3e89325fcfc34304bce702a973e1e4d9\") {\n",
       "      outputDiv = document.getElementById(\"altair-viz-3e89325fcfc34304bce702a973e1e4d9\");\n",
       "    }\n",
       "    const paths = {\n",
       "      \"vega\": \"https://cdn.jsdelivr.net/npm/vega@5?noext\",\n",
       "      \"vega-lib\": \"https://cdn.jsdelivr.net/npm/vega-lib?noext\",\n",
       "      \"vega-lite\": \"https://cdn.jsdelivr.net/npm/vega-lite@5.20.1?noext\",\n",
       "      \"vega-embed\": \"https://cdn.jsdelivr.net/npm/vega-embed@6?noext\",\n",
       "    };\n",
       "\n",
       "    function maybeLoadScript(lib, version) {\n",
       "      var key = `${lib.replace(\"-\", \"\")}_version`;\n",
       "      return (VEGA_DEBUG[key] == version) ?\n",
       "        Promise.resolve(paths[lib]) :\n",
       "        new Promise(function(resolve, reject) {\n",
       "          var s = document.createElement('script');\n",
       "          document.getElementsByTagName(\"head\")[0].appendChild(s);\n",
       "          s.async = true;\n",
       "          s.onload = () => {\n",
       "            VEGA_DEBUG[key] = version;\n",
       "            return resolve(paths[lib]);\n",
       "          };\n",
       "          s.onerror = () => reject(`Error loading script: ${paths[lib]}`);\n",
       "          s.src = paths[lib];\n",
       "        });\n",
       "    }\n",
       "\n",
       "    function showError(err) {\n",
       "      outputDiv.innerHTML = `<div class=\"error\" style=\"color:red;\">${err}</div>`;\n",
       "      throw err;\n",
       "    }\n",
       "\n",
       "    function displayChart(vegaEmbed) {\n",
       "      vegaEmbed(outputDiv, spec, embedOpt)\n",
       "        .catch(err => showError(`Javascript Error: ${err.message}<br>This usually means there's a typo in your chart specification. See the javascript console for the full traceback.`));\n",
       "    }\n",
       "\n",
       "    if(typeof define === \"function\" && define.amd) {\n",
       "      requirejs.config({paths});\n",
       "      require([\"vega-embed\"], displayChart, err => showError(`Error loading script: ${err.message}`));\n",
       "    } else {\n",
       "      maybeLoadScript(\"vega\", \"5\")\n",
       "        .then(() => maybeLoadScript(\"vega-lite\", \"5.20.1\"))\n",
       "        .then(() => maybeLoadScript(\"vega-embed\", \"6\"))\n",
       "        .catch(showError)\n",
       "        .then(() => displayChart(vegaEmbed));\n",
       "    }\n",
       "  })({\"config\": {\"view\": {\"continuousWidth\": 300, \"continuousHeight\": 300}}, \"data\": {\"name\": \"data-7cf38f46a4de4aa89074af08d9c6e2ae\"}, \"mark\": {\"type\": \"line\"}, \"encoding\": {\"color\": {\"field\": \"Device\", \"type\": \"nominal\"}, \"tooltip\": [{\"field\": \"Time\", \"type\": \"temporal\"}, {\"field\": \"AQI\", \"type\": \"quantitative\"}, {\"field\": \"Device\", \"type\": \"nominal\"}], \"x\": {\"field\": \"Time\", \"type\": \"temporal\"}, \"y\": {\"field\": \"AQI\", \"type\": \"quantitative\"}}, \"params\": [{\"name\": \"param_23\", \"select\": {\"type\": \"interval\", \"encodings\": [\"x\", \"y\"]}, \"bind\": \"scales\"}], \"$schema\": \"https://vega.github.io/schema/vega-lite/v5.20.1.json\", \"datasets\": {\"data-7cf38f46a4de4aa89074af08d9c6e2ae\": [{\"Time\": \"2024-08-18T17:00:00\", \"PM2.5(ug/m\\u00b3)\": 8.5, \"AQI\": 47, \"CO\\u2082(ppm)\": 815, \"TVOC\": 14, \"Temperature(\\u2109)\": 79.2, \"Humidity(%RH)\": 56, \"Floor\": \"2\", \"Location\": \"Unit 210\", \"Device\": \"01\"}, {\"Time\": \"2024-08-18T18:00:00\", \"PM2.5(ug/m\\u00b3)\": 8.5, \"AQI\": 47, \"CO\\u2082(ppm)\": 840, \"TVOC\": 19, \"Temperature(\\u2109)\": 79.3, \"Humidity(%RH)\": 57, \"Floor\": \"2\", \"Location\": \"Unit 210\", \"Device\": \"01\"}, {\"Time\": \"2024-08-18T19:00:00\", \"PM2.5(ug/m\\u00b3)\": 8.1, \"AQI\": 45, \"CO\\u2082(ppm)\": 863, \"TVOC\": 24, \"Temperature(\\u2109)\": 79.3, \"Humidity(%RH)\": 58, \"Floor\": \"2\", \"Location\": \"Unit 210\", \"Device\": \"01\"}, {\"Time\": \"2024-08-18T20:00:00\", \"PM2.5(ug/m\\u00b3)\": 9.2, \"AQI\": 51, \"CO\\u2082(ppm)\": 884, \"TVOC\": 25, \"Temperature(\\u2109)\": 79.3, \"Humidity(%RH)\": 58, \"Floor\": \"2\", \"Location\": \"Unit 210\", \"Device\": \"01\"}, {\"Time\": \"2024-08-18T21:00:00\", \"PM2.5(ug/m\\u00b3)\": 10.2, \"AQI\": 53, \"CO\\u2082(ppm)\": 905, \"TVOC\": 29, \"Temperature(\\u2109)\": 79.3, \"Humidity(%RH)\": 59, \"Floor\": \"2\", \"Location\": \"Unit 210\", \"Device\": \"01\"}, {\"Time\": \"2024-08-18T22:00:00\", \"PM2.5(ug/m\\u00b3)\": 10.2, \"AQI\": 53, \"CO\\u2082(ppm)\": 907, \"TVOC\": 34, \"Temperature(\\u2109)\": 79.3, \"Humidity(%RH)\": 59, \"Floor\": \"2\", \"Location\": \"Unit 210\", \"Device\": \"01\"}, {\"Time\": \"2024-08-18T23:00:00\", \"PM2.5(ug/m\\u00b3)\": 8.8, \"AQI\": 49, \"CO\\u2082(ppm)\": 895, \"TVOC\": 37, \"Temperature(\\u2109)\": 79.3, \"Humidity(%RH)\": 59, \"Floor\": \"2\", \"Location\": \"Unit 210\", \"Device\": \"01\"}, {\"Time\": \"2024-08-19T00:00:00\", \"PM2.5(ug/m\\u00b3)\": 6.7, \"AQI\": 37, \"CO\\u2082(ppm)\": 885, \"TVOC\": 38, \"Temperature(\\u2109)\": 79.3, \"Humidity(%RH)\": 59, \"Floor\": \"2\", \"Location\": \"Unit 210\", \"Device\": \"01\"}, {\"Time\": \"2024-08-19T01:00:00\", \"PM2.5(ug/m\\u00b3)\": 5.4, \"AQI\": 30, \"CO\\u2082(ppm)\": 874, \"TVOC\": 39, \"Temperature(\\u2109)\": 79.3, \"Humidity(%RH)\": 60, \"Floor\": \"2\", \"Location\": \"Unit 210\", \"Device\": \"01\"}, {\"Time\": \"2024-08-19T02:00:00\", \"PM2.5(ug/m\\u00b3)\": 4.3, \"AQI\": 24, \"CO\\u2082(ppm)\": 862, \"TVOC\": 41, \"Temperature(\\u2109)\": 79.3, \"Humidity(%RH)\": 60, \"Floor\": \"2\", \"Location\": \"Unit 210\", \"Device\": \"01\"}, {\"Time\": \"2024-08-19T03:00:00\", \"PM2.5(ug/m\\u00b3)\": 4.0, \"AQI\": 22, \"CO\\u2082(ppm)\": 850, \"TVOC\": 41, \"Temperature(\\u2109)\": 79.2, \"Humidity(%RH)\": 61, \"Floor\": \"2\", \"Location\": \"Unit 210\", \"Device\": \"01\"}, {\"Time\": \"2024-08-19T04:00:00\", \"PM2.5(ug/m\\u00b3)\": 4.1, \"AQI\": 23, \"CO\\u2082(ppm)\": 842, \"TVOC\": 42, \"Temperature(\\u2109)\": 79.2, \"Humidity(%RH)\": 61, \"Floor\": \"2\", \"Location\": \"Unit 210\", \"Device\": \"01\"}, {\"Time\": \"2024-08-19T05:00:00\", \"PM2.5(ug/m\\u00b3)\": 4.4, \"AQI\": 25, \"CO\\u2082(ppm)\": 834, \"TVOC\": 42, \"Temperature(\\u2109)\": 79.2, \"Humidity(%RH)\": 61, \"Floor\": \"2\", \"Location\": \"Unit 210\", \"Device\": \"01\"}, {\"Time\": \"2024-08-19T06:00:00\", \"PM2.5(ug/m\\u00b3)\": 4.4, \"AQI\": 25, \"CO\\u2082(ppm)\": 829, \"TVOC\": 43, \"Temperature(\\u2109)\": 79.2, \"Humidity(%RH)\": 61, \"Floor\": \"2\", \"Location\": \"Unit 210\", \"Device\": \"01\"}, {\"Time\": \"2024-08-19T07:00:00\", \"PM2.5(ug/m\\u00b3)\": 4.3, \"AQI\": 24, \"CO\\u2082(ppm)\": 825, \"TVOC\": 197, \"Temperature(\\u2109)\": 79.3, \"Humidity(%RH)\": 61, \"Floor\": \"2\", \"Location\": \"Unit 210\", \"Device\": \"01\"}, {\"Time\": \"2024-08-19T08:00:00\", \"PM2.5(ug/m\\u00b3)\": 5.1, \"AQI\": 29, \"CO\\u2082(ppm)\": 825, \"TVOC\": 102, \"Temperature(\\u2109)\": 79.0, \"Humidity(%RH)\": 62, \"Floor\": \"2\", \"Location\": \"Unit 210\", \"Device\": \"01\"}, {\"Time\": \"2024-08-19T09:00:00\", \"PM2.5(ug/m\\u00b3)\": 14.6, \"AQI\": 61, \"CO\\u2082(ppm)\": 717, \"TVOC\": 44, \"Temperature(\\u2109)\": 78.8, \"Humidity(%RH)\": 62, \"Floor\": \"2\", \"Location\": \"Unit 210\", \"Device\": \"01\"}, {\"Time\": \"2024-08-19T10:00:00\", \"PM2.5(ug/m\\u00b3)\": 11.5, \"AQI\": 55, \"CO\\u2082(ppm)\": 697, \"TVOC\": 38, \"Temperature(\\u2109)\": 78.8, \"Humidity(%RH)\": 62, \"Floor\": \"2\", \"Location\": \"Unit 210\", \"Device\": \"01\"}, {\"Time\": \"2024-08-18T17:00:00\", \"PM2.5(ug/m\\u00b3)\": 9.5, \"AQI\": 52, \"CO\\u2082(ppm)\": 614, \"TVOC\": 13, \"Temperature(\\u2109)\": 79.2, \"Humidity(%RH)\": 55, \"Floor\": \"2\", \"Location\": \"Unit 210\", \"Device\": \"02\"}, {\"Time\": \"2024-08-18T18:00:00\", \"PM2.5(ug/m\\u00b3)\": 10.0, \"AQI\": 53, \"CO\\u2082(ppm)\": 631, \"TVOC\": 17, \"Temperature(\\u2109)\": 79.3, \"Humidity(%RH)\": 57, \"Floor\": \"2\", \"Location\": \"Unit 210\", \"Device\": \"02\"}, {\"Time\": \"2024-08-18T19:00:00\", \"PM2.5(ug/m\\u00b3)\": 9.7, \"AQI\": 52, \"CO\\u2082(ppm)\": 650, \"TVOC\": 20, \"Temperature(\\u2109)\": 79.3, \"Humidity(%RH)\": 58, \"Floor\": \"2\", \"Location\": \"Unit 210\", \"Device\": \"02\"}, {\"Time\": \"2024-08-18T20:00:00\", \"PM2.5(ug/m\\u00b3)\": 10.5, \"AQI\": 54, \"CO\\u2082(ppm)\": 664, \"TVOC\": 24, \"Temperature(\\u2109)\": 79.3, \"Humidity(%RH)\": 58, \"Floor\": \"2\", \"Location\": \"Unit 210\", \"Device\": \"02\"}, {\"Time\": \"2024-08-18T21:00:00\", \"PM2.5(ug/m\\u00b3)\": 11.6, \"AQI\": 56, \"CO\\u2082(ppm)\": 676, \"TVOC\": 31, \"Temperature(\\u2109)\": 79.3, \"Humidity(%RH)\": 58, \"Floor\": \"2\", \"Location\": \"Unit 210\", \"Device\": \"02\"}, {\"Time\": \"2024-08-18T22:00:00\", \"PM2.5(ug/m\\u00b3)\": 11.8, \"AQI\": 56, \"CO\\u2082(ppm)\": 671, \"TVOC\": 36, \"Temperature(\\u2109)\": 79.3, \"Humidity(%RH)\": 59, \"Floor\": \"2\", \"Location\": \"Unit 210\", \"Device\": \"02\"}, {\"Time\": \"2024-08-18T23:00:00\", \"PM2.5(ug/m\\u00b3)\": 10.8, \"AQI\": 54, \"CO\\u2082(ppm)\": 662, \"TVOC\": 40, \"Temperature(\\u2109)\": 79.3, \"Humidity(%RH)\": 59, \"Floor\": \"2\", \"Location\": \"Unit 210\", \"Device\": \"02\"}, {\"Time\": \"2024-08-19T00:00:00\", \"PM2.5(ug/m\\u00b3)\": 7.9, \"AQI\": 44, \"CO\\u2082(ppm)\": 649, \"TVOC\": 42, \"Temperature(\\u2109)\": 79.2, \"Humidity(%RH)\": 59, \"Floor\": \"2\", \"Location\": \"Unit 210\", \"Device\": \"02\"}, {\"Time\": \"2024-08-19T01:00:00\", \"PM2.5(ug/m\\u00b3)\": 6.5, \"AQI\": 36, \"CO\\u2082(ppm)\": 641, \"TVOC\": 44, \"Temperature(\\u2109)\": 79.2, \"Humidity(%RH)\": 59, \"Floor\": \"2\", \"Location\": \"Unit 210\", \"Device\": \"02\"}, {\"Time\": \"2024-08-19T02:00:00\", \"PM2.5(ug/m\\u00b3)\": 4.7, \"AQI\": 26, \"CO\\u2082(ppm)\": 631, \"TVOC\": 46, \"Temperature(\\u2109)\": 79.2, \"Humidity(%RH)\": 60, \"Floor\": \"2\", \"Location\": \"Unit 210\", \"Device\": \"02\"}, {\"Time\": \"2024-08-19T03:00:00\", \"PM2.5(ug/m\\u00b3)\": 4.5, \"AQI\": 25, \"CO\\u2082(ppm)\": 623, \"TVOC\": 47, \"Temperature(\\u2109)\": 79.2, \"Humidity(%RH)\": 60, \"Floor\": \"2\", \"Location\": \"Unit 210\", \"Device\": \"02\"}, {\"Time\": \"2024-08-19T04:00:00\", \"PM2.5(ug/m\\u00b3)\": 4.4, \"AQI\": 25, \"CO\\u2082(ppm)\": 615, \"TVOC\": 46, \"Temperature(\\u2109)\": 79.0, \"Humidity(%RH)\": 60, \"Floor\": \"2\", \"Location\": \"Unit 210\", \"Device\": \"02\"}, {\"Time\": \"2024-08-19T05:00:00\", \"PM2.5(ug/m\\u00b3)\": 4.6, \"AQI\": 26, \"CO\\u2082(ppm)\": 607, \"TVOC\": 46, \"Temperature(\\u2109)\": 79.0, \"Humidity(%RH)\": 61, \"Floor\": \"2\", \"Location\": \"Unit 210\", \"Device\": \"02\"}, {\"Time\": \"2024-08-19T06:00:00\", \"PM2.5(ug/m\\u00b3)\": 4.7, \"AQI\": 26, \"CO\\u2082(ppm)\": 603, \"TVOC\": 45, \"Temperature(\\u2109)\": 79.2, \"Humidity(%RH)\": 61, \"Floor\": \"2\", \"Location\": \"Unit 210\", \"Device\": \"02\"}, {\"Time\": \"2024-08-19T07:00:00\", \"PM2.5(ug/m\\u00b3)\": 4.8, \"AQI\": 27, \"CO\\u2082(ppm)\": 598, \"TVOC\": 40, \"Temperature(\\u2109)\": 79.0, \"Humidity(%RH)\": 61, \"Floor\": \"2\", \"Location\": \"Unit 210\", \"Device\": \"02\"}, {\"Time\": \"2024-08-19T08:00:00\", \"PM2.5(ug/m\\u00b3)\": 5.0, \"AQI\": 28, \"CO\\u2082(ppm)\": 594, \"TVOC\": 38, \"Temperature(\\u2109)\": 79.0, \"Humidity(%RH)\": 62, \"Floor\": \"2\", \"Location\": \"Unit 210\", \"Device\": \"02\"}, {\"Time\": \"2024-08-19T09:00:00\", \"PM2.5(ug/m\\u00b3)\": 15.7, \"AQI\": 63, \"CO\\u2082(ppm)\": 519, \"TVOC\": 40, \"Temperature(\\u2109)\": 78.8, \"Humidity(%RH)\": 62, \"Floor\": \"2\", \"Location\": \"Unit 210\", \"Device\": \"02\"}, {\"Time\": \"2024-08-19T10:00:00\", \"PM2.5(ug/m\\u00b3)\": 13.0, \"AQI\": 58, \"CO\\u2082(ppm)\": 536, \"TVOC\": 41, \"Temperature(\\u2109)\": 78.8, \"Humidity(%RH)\": 62, \"Floor\": \"2\", \"Location\": \"Unit 210\", \"Device\": \"02\"}, {\"Time\": \"2024-08-18T17:00:00\", \"PM2.5(ug/m\\u00b3)\": 9.8, \"AQI\": 52, \"CO\\u2082(ppm)\": 644, \"TVOC\": 44, \"Temperature(\\u2109)\": 79.2, \"Humidity(%RH)\": 55, \"Floor\": \"2\", \"Location\": \"Unit 210\", \"Device\": \"03\"}, {\"Time\": \"2024-08-18T18:00:00\", \"PM2.5(ug/m\\u00b3)\": 10.3, \"AQI\": 53, \"CO\\u2082(ppm)\": 675, \"TVOC\": 65, \"Temperature(\\u2109)\": 79.3, \"Humidity(%RH)\": 56, \"Floor\": \"2\", \"Location\": \"Unit 210\", \"Device\": \"03\"}, {\"Time\": \"2024-08-18T19:00:00\", \"PM2.5(ug/m\\u00b3)\": 9.8, \"AQI\": 52, \"CO\\u2082(ppm)\": 704, \"TVOC\": 63, \"Temperature(\\u2109)\": 79.5, \"Humidity(%RH)\": 57, \"Floor\": \"2\", \"Location\": \"Unit 210\", \"Device\": \"03\"}, {\"Time\": \"2024-08-18T20:00:00\", \"PM2.5(ug/m\\u00b3)\": 9.5, \"AQI\": 52, \"CO\\u2082(ppm)\": 732, \"TVOC\": 61, \"Temperature(\\u2109)\": 79.3, \"Humidity(%RH)\": 58, \"Floor\": \"2\", \"Location\": \"Unit 210\", \"Device\": \"03\"}, {\"Time\": \"2024-08-18T21:00:00\", \"PM2.5(ug/m\\u00b3)\": 10.1, \"AQI\": 53, \"CO\\u2082(ppm)\": 758, \"TVOC\": 70, \"Temperature(\\u2109)\": 79.3, \"Humidity(%RH)\": 58, \"Floor\": \"2\", \"Location\": \"Unit 210\", \"Device\": \"03\"}, {\"Time\": \"2024-08-18T22:00:00\", \"PM2.5(ug/m\\u00b3)\": 10.7, \"AQI\": 54, \"CO\\u2082(ppm)\": 762, \"TVOC\": 67, \"Temperature(\\u2109)\": 79.3, \"Humidity(%RH)\": 58, \"Floor\": \"2\", \"Location\": \"Unit 210\", \"Device\": \"03\"}, {\"Time\": \"2024-08-18T23:00:00\", \"PM2.5(ug/m\\u00b3)\": 10.7, \"AQI\": 54, \"CO\\u2082(ppm)\": 749, \"TVOC\": 65, \"Temperature(\\u2109)\": 79.3, \"Humidity(%RH)\": 59, \"Floor\": \"2\", \"Location\": \"Unit 210\", \"Device\": \"03\"}, {\"Time\": \"2024-08-19T00:00:00\", \"PM2.5(ug/m\\u00b3)\": 8.0, \"AQI\": 44, \"CO\\u2082(ppm)\": 738, \"TVOC\": 62, \"Temperature(\\u2109)\": 79.3, \"Humidity(%RH)\": 59, \"Floor\": \"2\", \"Location\": \"Unit 210\", \"Device\": \"03\"}, {\"Time\": \"2024-08-19T01:00:00\", \"PM2.5(ug/m\\u00b3)\": 6.3, \"AQI\": 35, \"CO\\u2082(ppm)\": 728, \"TVOC\": 60, \"Temperature(\\u2109)\": 79.2, \"Humidity(%RH)\": 59, \"Floor\": \"2\", \"Location\": \"Unit 210\", \"Device\": \"03\"}, {\"Time\": \"2024-08-19T02:00:00\", \"PM2.5(ug/m\\u00b3)\": 4.5, \"AQI\": 25, \"CO\\u2082(ppm)\": 714, \"TVOC\": 57, \"Temperature(\\u2109)\": 79.2, \"Humidity(%RH)\": 60, \"Floor\": \"2\", \"Location\": \"Unit 210\", \"Device\": \"03\"}, {\"Time\": \"2024-08-19T03:00:00\", \"PM2.5(ug/m\\u00b3)\": 4.2, \"AQI\": 24, \"CO\\u2082(ppm)\": 702, \"TVOC\": 56, \"Temperature(\\u2109)\": 79.2, \"Humidity(%RH)\": 60, \"Floor\": \"2\", \"Location\": \"Unit 210\", \"Device\": \"03\"}, {\"Time\": \"2024-08-19T04:00:00\", \"PM2.5(ug/m\\u00b3)\": 4.0, \"AQI\": 22, \"CO\\u2082(ppm)\": 695, \"TVOC\": 55, \"Temperature(\\u2109)\": 79.2, \"Humidity(%RH)\": 60, \"Floor\": \"2\", \"Location\": \"Unit 210\", \"Device\": \"03\"}, {\"Time\": \"2024-08-19T05:00:00\", \"PM2.5(ug/m\\u00b3)\": 4.2, \"AQI\": 24, \"CO\\u2082(ppm)\": 688, \"TVOC\": 53, \"Temperature(\\u2109)\": 79.2, \"Humidity(%RH)\": 60, \"Floor\": \"2\", \"Location\": \"Unit 210\", \"Device\": \"03\"}, {\"Time\": \"2024-08-19T06:00:00\", \"PM2.5(ug/m\\u00b3)\": 4.4, \"AQI\": 25, \"CO\\u2082(ppm)\": 681, \"TVOC\": 52, \"Temperature(\\u2109)\": 79.2, \"Humidity(%RH)\": 60, \"Floor\": \"2\", \"Location\": \"Unit 210\", \"Device\": \"03\"}, {\"Time\": \"2024-08-19T07:00:00\", \"PM2.5(ug/m\\u00b3)\": 5.0, \"AQI\": 28, \"CO\\u2082(ppm)\": 675, \"TVOC\": 194, \"Temperature(\\u2109)\": 79.5, \"Humidity(%RH)\": 60, \"Floor\": \"2\", \"Location\": \"Unit 210\", \"Device\": \"03\"}, {\"Time\": \"2024-08-19T08:00:00\", \"PM2.5(ug/m\\u00b3)\": 6.1, \"AQI\": 34, \"CO\\u2082(ppm)\": 679, \"TVOC\": 96, \"Temperature(\\u2109)\": 79.2, \"Humidity(%RH)\": 62, \"Floor\": \"2\", \"Location\": \"Unit 210\", \"Device\": \"03\"}, {\"Time\": \"2024-08-19T09:00:00\", \"PM2.5(ug/m\\u00b3)\": 14.9, \"AQI\": 62, \"CO\\u2082(ppm)\": 553, \"TVOC\": 47, \"Temperature(\\u2109)\": 78.8, \"Humidity(%RH)\": 61, \"Floor\": \"2\", \"Location\": \"Unit 210\", \"Device\": \"03\"}, {\"Time\": \"2024-08-19T10:00:00\", \"PM2.5(ug/m\\u00b3)\": 12.5, \"AQI\": 57, \"CO\\u2082(ppm)\": 538, \"TVOC\": 39, \"Temperature(\\u2109)\": 78.8, \"Humidity(%RH)\": 62, \"Floor\": \"2\", \"Location\": \"Unit 210\", \"Device\": \"03\"}]}}, {\"mode\": \"vega-lite\"});\n",
       "</script>"
      ],
      "text/plain": [
       "alt.Chart(...)"
      ]
     },
     "metadata": {},
     "output_type": "display_data"
    },
    {
     "data": {
      "text/html": [
       "<div><style>\n",
       ".dataframe > thead > tr,\n",
       ".dataframe > tbody > tr {\n",
       "  text-align: right;\n",
       "  white-space: pre-wrap;\n",
       "}\n",
       "</style>\n",
       "<small>shape: (18, 4)</small><table border=\"1\" class=\"dataframe\"><thead><tr><th>Time</th><th>Device 01</th><th>Device 02</th><th>Device 03</th></tr><tr><td>datetime[μs]</td><td>f64</td><td>f64</td><td>f64</td></tr></thead><tbody><tr><td>2024-08-18 17:00:00</td><td>8.5</td><td>9.5</td><td>9.8</td></tr><tr><td>2024-08-18 18:00:00</td><td>8.5</td><td>10.0</td><td>10.3</td></tr><tr><td>2024-08-18 19:00:00</td><td>8.1</td><td>9.7</td><td>9.8</td></tr><tr><td>2024-08-18 20:00:00</td><td>9.2</td><td>10.5</td><td>9.5</td></tr><tr><td>2024-08-18 21:00:00</td><td>10.2</td><td>11.6</td><td>10.1</td></tr><tr><td>&hellip;</td><td>&hellip;</td><td>&hellip;</td><td>&hellip;</td></tr><tr><td>2024-08-19 06:00:00</td><td>4.4</td><td>4.7</td><td>4.4</td></tr><tr><td>2024-08-19 07:00:00</td><td>4.3</td><td>4.8</td><td>5.0</td></tr><tr><td>2024-08-19 08:00:00</td><td>5.1</td><td>5.0</td><td>6.1</td></tr><tr><td>2024-08-19 09:00:00</td><td>14.6</td><td>15.7</td><td>14.9</td></tr><tr><td>2024-08-19 10:00:00</td><td>11.5</td><td>13.0</td><td>12.5</td></tr></tbody></table></div>"
      ],
      "text/plain": [
       "shape: (18, 4)\n",
       "┌─────────────────────┬───────────┬───────────┬───────────┐\n",
       "│ Time                ┆ Device 01 ┆ Device 02 ┆ Device 03 │\n",
       "│ ---                 ┆ ---       ┆ ---       ┆ ---       │\n",
       "│ datetime[μs]        ┆ f64       ┆ f64       ┆ f64       │\n",
       "╞═════════════════════╪═══════════╪═══════════╪═══════════╡\n",
       "│ 2024-08-18 17:00:00 ┆ 8.5       ┆ 9.5       ┆ 9.8       │\n",
       "│ 2024-08-18 18:00:00 ┆ 8.5       ┆ 10.0      ┆ 10.3      │\n",
       "│ 2024-08-18 19:00:00 ┆ 8.1       ┆ 9.7       ┆ 9.8       │\n",
       "│ 2024-08-18 20:00:00 ┆ 9.2       ┆ 10.5      ┆ 9.5       │\n",
       "│ 2024-08-18 21:00:00 ┆ 10.2      ┆ 11.6      ┆ 10.1      │\n",
       "│ …                   ┆ …         ┆ …         ┆ …         │\n",
       "│ 2024-08-19 06:00:00 ┆ 4.4       ┆ 4.7       ┆ 4.4       │\n",
       "│ 2024-08-19 07:00:00 ┆ 4.3       ┆ 4.8       ┆ 5.0       │\n",
       "│ 2024-08-19 08:00:00 ┆ 5.1       ┆ 5.0       ┆ 6.1       │\n",
       "│ 2024-08-19 09:00:00 ┆ 14.6      ┆ 15.7      ┆ 14.9      │\n",
       "│ 2024-08-19 10:00:00 ┆ 11.5      ┆ 13.0      ┆ 12.5      │\n",
       "└─────────────────────┴───────────┴───────────┴───────────┘"
      ]
     },
     "metadata": {},
     "output_type": "display_data"
    }
   ],
   "source": [
    "start_incl = datetime.datetime.fromisoformat(\"2024-08-18T17:00:00\")\n",
    "end_excl = datetime.datetime.fromisoformat(\"2024-08-19T11:00:00\")\n",
    "\n",
    "display_data_and_correlations(df, \"Device03\", [\"Device01\", \"Device02\"], start_incl, end_excl)"
   ]
  },
  {
   "cell_type": "markdown",
   "id": "6cb7528c-b44f-45ab-80f1-29719369cd36",
   "metadata": {},
   "source": [
    "## Calibration Run #2\n",
    "August 20, 2024 1am to August 20, 2024, 12pm"
   ]
  },
  {
   "cell_type": "code",
   "execution_count": 11,
   "id": "f97cdfa6-f2fa-45bf-9dc6-8971fcd98d09",
   "metadata": {},
   "outputs": [
    {
     "data": {
      "text/html": [
       "<div><style>\n",
       ".dataframe > thead > tr,\n",
       ".dataframe > tbody > tr {\n",
       "  text-align: right;\n",
       "  white-space: pre-wrap;\n",
       "}\n",
       "</style>\n",
       "<small>shape: (12, 4)</small><table border=\"1\" class=\"dataframe\"><thead><tr><th>Time</th><th>Device 01</th><th>Device 02</th><th>Device 03</th></tr><tr><td>datetime[μs]</td><td>f64</td><td>f64</td><td>f64</td></tr></thead><tbody><tr><td>2024-08-20 05:00:00</td><td>10.3</td><td>8.8</td><td>10.9</td></tr><tr><td>2024-08-20 06:00:00</td><td>6.9</td><td>7.3</td><td>6.5</td></tr><tr><td>2024-08-20 07:00:00</td><td>6.1</td><td>6.7</td><td>6.0</td></tr><tr><td>2024-08-20 08:00:00</td><td>17.9</td><td>13.4</td><td>13.0</td></tr><tr><td>2024-08-20 09:00:00</td><td>6.6</td><td>5.5</td><td>5.8</td></tr><tr><td>&hellip;</td><td>&hellip;</td><td>&hellip;</td><td>&hellip;</td></tr><tr><td>2024-08-20 12:00:00</td><td>59.1</td><td>56.0</td><td>53.6</td></tr><tr><td>2024-08-20 01:00:00</td><td>3.6</td><td>3.7</td><td>4.1</td></tr><tr><td>2024-08-20 02:00:00</td><td>10.6</td><td>9.2</td><td>10.9</td></tr><tr><td>2024-08-20 03:00:00</td><td>9.1</td><td>9.1</td><td>9.1</td></tr><tr><td>2024-08-20 04:00:00</td><td>6.1</td><td>6.7</td><td>5.9</td></tr></tbody></table></div>"
      ],
      "text/plain": [
       "shape: (12, 4)\n",
       "┌─────────────────────┬───────────┬───────────┬───────────┐\n",
       "│ Time                ┆ Device 01 ┆ Device 02 ┆ Device 03 │\n",
       "│ ---                 ┆ ---       ┆ ---       ┆ ---       │\n",
       "│ datetime[μs]        ┆ f64       ┆ f64       ┆ f64       │\n",
       "╞═════════════════════╪═══════════╪═══════════╪═══════════╡\n",
       "│ 2024-08-20 05:00:00 ┆ 10.3      ┆ 8.8       ┆ 10.9      │\n",
       "│ 2024-08-20 06:00:00 ┆ 6.9       ┆ 7.3       ┆ 6.5       │\n",
       "│ 2024-08-20 07:00:00 ┆ 6.1       ┆ 6.7       ┆ 6.0       │\n",
       "│ 2024-08-20 08:00:00 ┆ 17.9      ┆ 13.4      ┆ 13.0      │\n",
       "│ 2024-08-20 09:00:00 ┆ 6.6       ┆ 5.5       ┆ 5.8       │\n",
       "│ …                   ┆ …         ┆ …         ┆ …         │\n",
       "│ 2024-08-20 12:00:00 ┆ 59.1      ┆ 56.0      ┆ 53.6      │\n",
       "│ 2024-08-20 01:00:00 ┆ 3.6       ┆ 3.7       ┆ 4.1       │\n",
       "│ 2024-08-20 02:00:00 ┆ 10.6      ┆ 9.2       ┆ 10.9      │\n",
       "│ 2024-08-20 03:00:00 ┆ 9.1       ┆ 9.1       ┆ 9.1       │\n",
       "│ 2024-08-20 04:00:00 ┆ 6.1       ┆ 6.7       ┆ 5.9       │\n",
       "└─────────────────────┴───────────┴───────────┴───────────┘"
      ]
     },
     "metadata": {},
     "output_type": "display_data"
    },
    {
     "ename": "AttributeError",
     "evalue": "'DataFrame' object has no attribute 'reset_index'",
     "output_type": "error",
     "traceback": [
      "\u001b[0;31m---------------------------------------------------------------------------\u001b[0m",
      "\u001b[0;31mAttributeError\u001b[0m                            Traceback (most recent call last)",
      "Cell \u001b[0;32mIn[11], line 4\u001b[0m\n\u001b[1;32m      1\u001b[0m start_incl \u001b[38;5;241m=\u001b[39m datetime\u001b[38;5;241m.\u001b[39mdatetime\u001b[38;5;241m.\u001b[39mfromisoformat(\u001b[38;5;124m\"\u001b[39m\u001b[38;5;124m2024-08-20T01:00:00\u001b[39m\u001b[38;5;124m\"\u001b[39m)\n\u001b[1;32m      2\u001b[0m end_excl \u001b[38;5;241m=\u001b[39m datetime\u001b[38;5;241m.\u001b[39mdatetime\u001b[38;5;241m.\u001b[39mfromisoformat(\u001b[38;5;124m\"\u001b[39m\u001b[38;5;124m2024-08-20T13:00:00\u001b[39m\u001b[38;5;124m\"\u001b[39m)\n\u001b[0;32m----> 4\u001b[0m \u001b[43mdisplay_data_and_correlations\u001b[49m\u001b[43m(\u001b[49m\u001b[43mdf\u001b[49m\u001b[43m,\u001b[49m\u001b[43m \u001b[49m\u001b[38;5;124;43m\"\u001b[39;49m\u001b[38;5;124;43mDevice03\u001b[39;49m\u001b[38;5;124;43m\"\u001b[39;49m\u001b[43m,\u001b[49m\u001b[43m \u001b[49m\u001b[43m[\u001b[49m\u001b[38;5;124;43m\"\u001b[39;49m\u001b[38;5;124;43mDevice01\u001b[39;49m\u001b[38;5;124;43m\"\u001b[39;49m\u001b[43m,\u001b[49m\u001b[43m \u001b[49m\u001b[38;5;124;43m\"\u001b[39;49m\u001b[38;5;124;43mDevice02\u001b[39;49m\u001b[38;5;124;43m\"\u001b[39;49m\u001b[43m]\u001b[49m\u001b[43m,\u001b[49m\u001b[43m \u001b[49m\u001b[43mstart_incl\u001b[49m\u001b[43m,\u001b[49m\u001b[43m \u001b[49m\u001b[43mend_excl\u001b[49m\u001b[43m)\u001b[49m\n",
      "Cell \u001b[0;32mIn[7], line 19\u001b[0m, in \u001b[0;36mdisplay_data_and_correlations\u001b[0;34m(df, tgt, srcs, start_incl, end_excl)\u001b[0m\n\u001b[1;32m     12\u001b[0m pm25_df \u001b[38;5;241m=\u001b[39m df\u001b[38;5;241m.\u001b[39mwith_columns(\n\u001b[1;32m     13\u001b[0m     pl\u001b[38;5;241m.\u001b[39mlit(\u001b[38;5;124m\"\u001b[39m\u001b[38;5;124mDevice \u001b[39m\u001b[38;5;124m\"\u001b[39m)\u001b[38;5;241m.\u001b[39madd(pl\u001b[38;5;241m.\u001b[39mcol(\u001b[38;5;124m\"\u001b[39m\u001b[38;5;124mDevice\u001b[39m\u001b[38;5;124m\"\u001b[39m))\u001b[38;5;241m.\u001b[39malias(\u001b[38;5;124m\"\u001b[39m\u001b[38;5;124mDevice\u001b[39m\u001b[38;5;124m\"\u001b[39m)\n\u001b[1;32m     14\u001b[0m )\u001b[38;5;241m.\u001b[39mfilter(\n\u001b[1;32m     15\u001b[0m     pl\u001b[38;5;241m.\u001b[39mcol(\u001b[38;5;124m\"\u001b[39m\u001b[38;5;124mTime\u001b[39m\u001b[38;5;124m\"\u001b[39m)\u001b[38;5;241m.\u001b[39mis_between(start_incl, end_excl, \u001b[38;5;124m\"\u001b[39m\u001b[38;5;124mleft\u001b[39m\u001b[38;5;124m\"\u001b[39m)\n\u001b[1;32m     16\u001b[0m )\u001b[38;5;241m.\u001b[39mpivot(\u001b[38;5;124m\"\u001b[39m\u001b[38;5;124mDevice\u001b[39m\u001b[38;5;124m\"\u001b[39m, index\u001b[38;5;241m=\u001b[39m\u001b[38;5;124m\"\u001b[39m\u001b[38;5;124mTime\u001b[39m\u001b[38;5;124m\"\u001b[39m, values\u001b[38;5;241m=\u001b[39m\u001b[38;5;124m\"\u001b[39m\u001b[38;5;124mPM2.5(ug/m³)\u001b[39m\u001b[38;5;124m\"\u001b[39m)\n\u001b[1;32m     18\u001b[0m display(pm25_df)\n\u001b[0;32m---> 19\u001b[0m \u001b[43mpm25_df\u001b[49m\u001b[38;5;241;43m.\u001b[39;49m\u001b[43mreset_index\u001b[49m(level\u001b[38;5;241m=\u001b[39m\u001b[38;5;241m0\u001b[39m, drop\u001b[38;5;241m=\u001b[39m\u001b[38;5;28;01mTrue\u001b[39;00m)\u001b[38;5;241m.\u001b[39mresample(\u001b[38;5;124m\"\u001b[39m\u001b[38;5;124m5min\u001b[39m\u001b[38;5;124m\"\u001b[39m)\u001b[38;5;241m.\u001b[39minterpolate(method\u001b[38;5;241m=\u001b[39m\u001b[38;5;124m\"\u001b[39m\u001b[38;5;124mcubic\u001b[39m\u001b[38;5;124m\"\u001b[39m)\u001b[38;5;241m.\u001b[39mplot()\n\u001b[1;32m     20\u001b[0m \u001b[38;5;28;01mfor\u001b[39;00m src \u001b[38;5;129;01min\u001b[39;00m srcs:\n\u001b[1;32m     21\u001b[0m     display_correlation(pm25_df, tgt, src)\n",
      "\u001b[0;31mAttributeError\u001b[0m: 'DataFrame' object has no attribute 'reset_index'"
     ]
    }
   ],
   "source": [
    "start_incl = datetime.datetime.fromisoformat(\"2024-08-20T01:00:00\")\n",
    "end_excl = datetime.datetime.fromisoformat(\"2024-08-20T13:00:00\")\n",
    "\n",
    "display_data_and_correlations(df, \"Device03\", [\"Device01\", \"Device02\"], start_incl, end_excl)"
   ]
  },
  {
   "cell_type": "markdown",
   "id": "a4005f0f-d529-473d-9f8d-0b45209dc308",
   "metadata": {},
   "source": [
    "## Calibration Run #3\n",
    "August 20, 2024 1pm to August 21, 2024, 3am\n",
    "\n",
    "Note: Devices rebooted August 20, 2024 7:20pm as displayed numbers were diverging"
   ]
  },
  {
   "cell_type": "code",
   "execution_count": null,
   "id": "40cc0610-0696-4fe5-b434-0fa34dc4b12c",
   "metadata": {},
   "outputs": [],
   "source": [
    "start_incl = datetime.datetime.fromisoformat(\"2024-08-20T13:00:00+08.00\")\n",
    "end_excl = datetime.datetime.fromisoformat(\"2024-08-21T04:00:00+08.00\")\n",
    "\n",
    "display_data_and_correlations(df, \"Device03\", [\"Device01\", \"Device02\"], start_incl, end_excl)"
   ]
  },
  {
   "cell_type": "code",
   "execution_count": null,
   "id": "7cc183fc-b130-4933-a4c8-ee1e61911d8a",
   "metadata": {},
   "outputs": [],
   "source": []
  }
 ],
 "metadata": {
  "kernelspec": {
   "display_name": "Python 3 (ipykernel)",
   "language": "python",
   "name": "python3"
  },
  "language_info": {
   "codemirror_mode": {
    "name": "ipython",
    "version": 3
   },
   "file_extension": ".py",
   "mimetype": "text/x-python",
   "name": "python",
   "nbconvert_exporter": "python",
   "pygments_lexer": "ipython3",
   "version": "3.12.6"
  }
 },
 "nbformat": 4,
 "nbformat_minor": 5
}
