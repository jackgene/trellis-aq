{
 "cells": [
  {
   "cell_type": "code",
   "execution_count": 8,
   "id": "ae9bc7ac-09e6-4920-adfa-11249134bb9d",
   "metadata": {},
   "outputs": [],
   "source": [
    "import datetime\n",
    "import matplotlib.pyplot as plt\n",
    "import os\n",
    "import pandas as pd\n",
    "from typing import Sequence"
   ]
  },
  {
   "cell_type": "code",
   "execution_count": 9,
   "id": "b2732d3e-81c9-495d-8a36-97b83bb35a09",
   "metadata": {},
   "outputs": [],
   "source": [
    "def read_partition(path: str) -> pd.DataFrame:\n",
    "    def _read_partition(path: str, partition_cols: Sequence[Sequence[str]]) -> pd.DataFrame:\n",
    "        if path.lower().endswith(\".xlsx\"):\n",
    "            df = pd.read_excel(path)\n",
    "            return df.assign(**dict(partition_cols))\n",
    "        elif os.path.isdir(path):\n",
    "            return pd.concat(\n",
    "                [_read_partition(f\"{path}/{subpath}\", partition_cols + ([subpath.split(\"=\")] if \"=\" in subpath else [])) for subpath in os.listdir(path)]\n",
    "            )\n",
    "    \n",
    "    return _read_partition(path, [])\n",
    "\n",
    "\n",
    "def parse_tamtop_datetime(input: str) -> datetime.datetime:\n",
    "    return datetime.datetime.fromisoformat(\n",
    "        input.replace(\" \", \"T\").replace(\"(\", \"\").replace(\")\", \"\")\n",
    "    )"
   ]
  },
  {
   "cell_type": "code",
   "execution_count": 10,
   "id": "4443755a-7cd6-46b9-9f6f-df24f3506a0f",
   "metadata": {},
   "outputs": [],
   "source": [
    "df = read_partition(\"data\")\n",
    "df[\"Time\"] = df[\"Time\"].apply(parse_tamtop_datetime)\n",
    "df = df.set_index([\"Device\", \"Time\"]).drop([\"NO.\"], axis=1)"
   ]
  }
 ],
 "metadata": {
  "kernelspec": {
   "display_name": "Python 3 (ipykernel)",
   "language": "python",
   "name": "python3"
  },
  "language_info": {
   "codemirror_mode": {
    "name": "ipython",
    "version": 3
   },
   "file_extension": ".py",
   "mimetype": "text/x-python",
   "name": "python",
   "nbconvert_exporter": "python",
   "pygments_lexer": "ipython3",
   "version": "3.12.5"
  }
 },
 "nbformat": 4,
 "nbformat_minor": 5
}
